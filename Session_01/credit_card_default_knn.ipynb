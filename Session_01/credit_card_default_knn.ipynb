{
 "cells": [
  {
   "cell_type": "markdown",
   "id": "066cad34",
   "metadata": {},
   "source": [
    "# Data Science for Business - Predicting Credit Card Default with KNN"
   ]
  },
  {
   "cell_type": "code",
   "execution_count": 19,
   "id": "62201434",
   "metadata": {},
   "outputs": [],
   "source": [
    "import pandas as pd\n",
    "import numpy as np\n",
    "import matplotlib.pyplot as plt\n",
    "import seaborn as sns\n",
    "from sklearn.model_selection import train_test_split\n",
    "from sklearn.preprocessing import StandardScaler\n",
    "from sklearn.neighbors import KNeighborsClassifier\n",
    "from sklearn.metrics import classification_report, confusion_matrix"
   ]
  },
  {
   "cell_type": "code",
   "execution_count": 41,
   "id": "e4dfe84f",
   "metadata": {},
   "outputs": [],
   "source": [
    "np.random.seed(42)\n",
    "pd.options.display.float_format = '{:.2f}'.format # Turn off scientific notation for large numbers"
   ]
  },
  {
   "cell_type": "markdown",
   "id": "33f22a9e",
   "metadata": {},
   "source": [
    "## Case description\n",
    "\n",
    "### Credit card default\n",
    "\n",
    "Credit card default occurs when a cardholder fails to pay the minimum due on their credit card bill for a certain period of time. This can lead to a number of negative consequences, including late fees, increased interest rates, and damage to the cardholder's credit score. In some cases, credit card default can even result in legal action being taken against the cardholder."
   ]
  },
  {
   "cell_type": "markdown",
   "id": "40218778",
   "metadata": {},
   "source": [
    "## Load Data\n",
    "Importing the dataset from a CSV file."
   ]
  },
  {
   "cell_type": "code",
   "execution_count": 21,
   "id": "6db2634a",
   "metadata": {},
   "outputs": [],
   "source": [
    "df = pd.read_csv('https://raw.githubusercontent.com/olivermueller/ds4b-2024/96d117a1f864c0a2701580f784645b1e409fb7b0/Session_01/default.csv')"
   ]
  },
  {
   "cell_type": "code",
   "execution_count": null,
   "id": "1cd2f146",
   "metadata": {},
   "outputs": [],
   "source": [
    "df.head()"
   ]
  },
  {
   "cell_type": "markdown",
   "id": "58f90796",
   "metadata": {},
   "source": [
    "## Summary Statistics\n",
    "Generating summary statistics of the numerical variables `balance` and `income` and cross-tabulation for the `default` variable."
   ]
  },
  {
   "cell_type": "code",
   "execution_count": null,
   "id": "4fa01487",
   "metadata": {},
   "outputs": [],
   "source": [
    "df.describe()"
   ]
  },
  {
   "cell_type": "code",
   "execution_count": null,
   "id": "ac12fff2",
   "metadata": {},
   "outputs": [],
   "source": [
    "pd.crosstab(df['default'], columns='default')\n"
   ]
  },
  {
   "cell_type": "markdown",
   "id": "5ef69641",
   "metadata": {},
   "source": [
    "## Visualizations\n",
    "Use seaborn to visually explore the dataset. We create a scatterplot with `balance` and `income` on the x and y axes and `default` as hue."
   ]
  },
  {
   "cell_type": "code",
   "execution_count": null,
   "id": "3e8099a0",
   "metadata": {},
   "outputs": [],
   "source": [
    "sns.scatterplot(x='balance', y='income', hue='default', alpha=0.5, data=df)\n",
    "plt.xlabel('Balance')\n",
    "plt.ylabel('Income')\n",
    "plt.show()"
   ]
  },
  {
   "cell_type": "markdown",
   "id": "ac3f676f",
   "metadata": {},
   "source": [
    "## Machine Learning - KNN\n",
    "Training a K-Nearest Neighbors model to predict credit card default."
   ]
  },
  {
   "cell_type": "markdown",
   "id": "9fd2ff99",
   "metadata": {},
   "source": [
    "We first split the data into features and labels as well as training and testing sets."
   ]
  },
  {
   "cell_type": "code",
   "execution_count": 26,
   "id": "a3884f35",
   "metadata": {},
   "outputs": [],
   "source": [
    "X = df[['balance', 'income']]\n",
    "y = df['default']\n",
    "X_train, X_test, y_train, y_test = train_test_split(X, y, test_size=0.2, random_state=42)"
   ]
  },
  {
   "cell_type": "markdown",
   "id": "4a11884b",
   "metadata": {},
   "source": [
    "Scale the features using StandardScaler, as KNN is sensitive to the scale of the variables."
   ]
  },
  {
   "cell_type": "code",
   "execution_count": 27,
   "id": "8fd1f1fc",
   "metadata": {},
   "outputs": [],
   "source": [
    "scaler = StandardScaler()\n",
    "X_train = scaler.fit_transform(X_train)\n",
    "X_test = scaler.transform(X_test)"
   ]
  },
  {
   "cell_type": "markdown",
   "id": "3c2b0ac5",
   "metadata": {},
   "source": [
    "Fit the KNN model to the training data using k=5."
   ]
  },
  {
   "cell_type": "code",
   "execution_count": null,
   "id": "a73cd94f",
   "metadata": {},
   "outputs": [],
   "source": [
    "knn = KNeighborsClassifier(n_neighbors=5)\n",
    "knn.fit(X_train, y_train)"
   ]
  },
  {
   "cell_type": "markdown",
   "id": "0603e7b5",
   "metadata": {},
   "source": [
    "Use the fitted model to make predictions on the test data. More specifically, we calculate the probabilities of the positive class (default)."
   ]
  },
  {
   "cell_type": "code",
   "execution_count": 29,
   "id": "f2d4448c",
   "metadata": {},
   "outputs": [],
   "source": [
    "y_prob = knn.predict_proba(X_test)[: , 1]"
   ]
  },
  {
   "cell_type": "code",
   "execution_count": null,
   "id": "f84fea5d",
   "metadata": {},
   "outputs": [],
   "source": [
    "y_prob"
   ]
  },
  {
   "cell_type": "markdown",
   "id": "ef862a79",
   "metadata": {},
   "source": [
    "Let's plot the distribution of predicted probabilities for default."
   ]
  },
  {
   "cell_type": "code",
   "execution_count": null,
   "id": "45e32b9b",
   "metadata": {},
   "outputs": [],
   "source": [
    "sns.histplot(y_prob)\n",
    "plt.xlabel('Probability of Default')\n",
    "plt.ylabel('Frequency')\n",
    "plt.show()"
   ]
  },
  {
   "cell_type": "markdown",
   "id": "c3d490cd",
   "metadata": {},
   "source": [
    "Transform probabilities into binary outcomes using a threshold of 0.5."
   ]
  },
  {
   "cell_type": "code",
   "execution_count": 36,
   "id": "bcf684b8",
   "metadata": {},
   "outputs": [],
   "source": [
    "decision_threshold = 0.5\n",
    "y_pred = np.where(y_prob > decision_threshold, 'Yes', 'No')"
   ]
  },
  {
   "cell_type": "markdown",
   "id": "8da819a4",
   "metadata": {},
   "source": [
    "Plot a confusion matrix to evaluate the model's performance."
   ]
  },
  {
   "cell_type": "code",
   "execution_count": null,
   "id": "22c24c5f",
   "metadata": {},
   "outputs": [],
   "source": [
    "conf_matrix = confusion_matrix(y_test, y_pred)\n",
    "\n",
    "sns.heatmap(conf_matrix, annot=True, fmt='d', cmap='Blues')\n",
    "plt.xlabel('Predicted')\n",
    "plt.ylabel('Actual')\n",
    "plt.show()"
   ]
  },
  {
   "cell_type": "markdown",
   "id": "fca6f5bf",
   "metadata": {},
   "source": [
    "Print a classification report with precision, recall, F1-score, and accuracy.\n",
    "* The macro average F1 score is computed using the arithmetic mean of all the per-class F1 scores. Thta is, all classes are treated equally regardless of their support values.\n",
    "* The weighted average F1 score is computed by averaging the F1 scores of each class, weighted by their support values."
   ]
  },
  {
   "cell_type": "code",
   "execution_count": null,
   "id": "1053f91d",
   "metadata": {},
   "outputs": [],
   "source": [
    "print(classification_report(y_test, y_pred))"
   ]
  },
  {
   "cell_type": "markdown",
   "id": "805df7e6",
   "metadata": {},
   "source": [
    "## Your Turn!"
   ]
  },
  {
   "cell_type": "markdown",
   "id": "ef1e078f",
   "metadata": {},
   "source": [
    "Experiment with the above code and:\n",
    "\n",
    "1.  Change `n_neighbors` and observe how the accuracy of the classifier changes.\n",
    "\n",
    "2.  Change the `decision threshold` and observe how the accuracy of the classifier changes."
   ]
  }
 ],
 "metadata": {
  "kernelspec": {
   "display_name": "prodok",
   "language": "python",
   "name": "python3"
  },
  "language_info": {
   "codemirror_mode": {
    "name": "ipython",
    "version": 3
   },
   "file_extension": ".py",
   "mimetype": "text/x-python",
   "name": "python",
   "nbconvert_exporter": "python",
   "pygments_lexer": "ipython3",
   "version": "3.12.1"
  }
 },
 "nbformat": 4,
 "nbformat_minor": 5
}
