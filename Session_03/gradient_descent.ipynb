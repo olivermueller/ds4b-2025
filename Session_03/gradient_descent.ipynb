{
 "cells": [
  {
   "cell_type": "code",
   "execution_count": 4,
   "metadata": {},
   "outputs": [],
   "source": [
    "# Import the necessary libraries\n",
    "import pandas as pd\n",
    "import numpy as np\n",
    "import statsmodels.api as sm"
   ]
  },
  {
   "cell_type": "code",
   "execution_count": 5,
   "metadata": {},
   "outputs": [],
   "source": [
    "# Load data\n",
    "data = pd.read_csv(\"https://raw.githubusercontent.com/olivermueller/ds4b-2024/refs/heads/main/Session_03/advertising.csv\")\n",
    "\n",
    "# Extract y and x\n",
    "y = data['Sales'].to_numpy()\n",
    "x = data['TV'].to_numpy()"
   ]
  },
  {
   "cell_type": "code",
   "execution_count": 6,
   "metadata": {},
   "outputs": [],
   "source": [
    "# Random start values for beta0 (intercept) and beta1 (slope)\n",
    "beta0 = np.random.uniform(0, 1)\n",
    "beta1 = np.random.uniform(0, 1)\n",
    "\n",
    "# Define learning rate and maximum number of iterations of GD\n",
    "learning_rate = 0.0000001\n",
    "max_iter = 1000000"
   ]
  },
  {
   "cell_type": "code",
   "execution_count": 7,
   "metadata": {},
   "outputs": [
    {
     "name": "stdout",
     "output_type": "stream",
     "text": [
      "Initial values of beta0 and beta1:  0.5563679798015517 0.258395034124269\n"
     ]
    }
   ],
   "source": [
    "print(\"Initial values of beta0 and beta1: \", beta0, beta1)"
   ]
  },
  {
   "cell_type": "code",
   "execution_count": 8,
   "metadata": {},
   "outputs": [
    {
     "name": "stdout",
     "output_type": "stream",
     "text": [
      "Iteration: 10000 | Estimated intercept: 1.179535 | Estimated slope: 0.07726\n",
      "Iteration: 20000 | Estimated intercept: 1.743476 | Estimated slope: 0.074396\n",
      "Iteration: 30000 | Estimated intercept: 2.253081 | Estimated slope: 0.071808\n",
      "Iteration: 40000 | Estimated intercept: 2.713587 | Estimated slope: 0.06947\n",
      "Iteration: 50000 | Estimated intercept: 3.129722 | Estimated slope: 0.067356\n",
      "Iteration: 60000 | Estimated intercept: 3.505763 | Estimated slope: 0.065447\n",
      "Iteration: 70000 | Estimated intercept: 3.845573 | Estimated slope: 0.063721\n",
      "Iteration: 80000 | Estimated intercept: 4.152642 | Estimated slope: 0.062162\n",
      "Iteration: 90000 | Estimated intercept: 4.430125 | Estimated slope: 0.060753\n",
      "Iteration: 100000 | Estimated intercept: 4.680872 | Estimated slope: 0.059479\n",
      "Iteration: 110000 | Estimated intercept: 4.90746 | Estimated slope: 0.058329\n",
      "Iteration: 120000 | Estimated intercept: 5.112216 | Estimated slope: 0.057289\n",
      "Iteration: 130000 | Estimated intercept: 5.297244 | Estimated slope: 0.056349\n",
      "Iteration: 140000 | Estimated intercept: 5.464445 | Estimated slope: 0.0555\n",
      "Iteration: 150000 | Estimated intercept: 5.615536 | Estimated slope: 0.054733\n",
      "Iteration: 160000 | Estimated intercept: 5.752069 | Estimated slope: 0.054039\n",
      "Iteration: 170000 | Estimated intercept: 5.875447 | Estimated slope: 0.053413\n",
      "Iteration: 180000 | Estimated intercept: 5.986938 | Estimated slope: 0.052847\n",
      "Iteration: 190000 | Estimated intercept: 6.087687 | Estimated slope: 0.052335\n",
      "Iteration: 200000 | Estimated intercept: 6.178729 | Estimated slope: 0.051873\n",
      "Iteration: 210000 | Estimated intercept: 6.260998 | Estimated slope: 0.051455\n",
      "Iteration: 220000 | Estimated intercept: 6.335341 | Estimated slope: 0.051077\n",
      "Iteration: 230000 | Estimated intercept: 6.402521 | Estimated slope: 0.050736\n",
      "Iteration: 240000 | Estimated intercept: 6.463229 | Estimated slope: 0.050428\n",
      "Iteration: 250000 | Estimated intercept: 6.518087 | Estimated slope: 0.050149\n",
      "Iteration: 260000 | Estimated intercept: 6.56766 | Estimated slope: 0.049898\n",
      "Iteration: 270000 | Estimated intercept: 6.612456 | Estimated slope: 0.04967\n",
      "Iteration: 280000 | Estimated intercept: 6.652936 | Estimated slope: 0.049465\n",
      "Iteration: 290000 | Estimated intercept: 6.689516 | Estimated slope: 0.049279\n",
      "Iteration: 300000 | Estimated intercept: 6.722572 | Estimated slope: 0.049111\n",
      "Iteration: 310000 | Estimated intercept: 6.752442 | Estimated slope: 0.048959\n",
      "Iteration: 320000 | Estimated intercept: 6.779435 | Estimated slope: 0.048822\n",
      "Iteration: 330000 | Estimated intercept: 6.803826 | Estimated slope: 0.048698\n",
      "Iteration: 340000 | Estimated intercept: 6.825868 | Estimated slope: 0.048586\n",
      "Iteration: 350000 | Estimated intercept: 6.845786 | Estimated slope: 0.048485\n",
      "Iteration: 360000 | Estimated intercept: 6.863785 | Estimated slope: 0.048394\n",
      "Iteration: 370000 | Estimated intercept: 6.88005 | Estimated slope: 0.048311\n",
      "Iteration: 380000 | Estimated intercept: 6.894747 | Estimated slope: 0.048237\n",
      "Iteration: 390000 | Estimated intercept: 6.908029 | Estimated slope: 0.048169\n",
      "Iteration: 400000 | Estimated intercept: 6.92003 | Estimated slope: 0.048108\n",
      "Iteration: 410000 | Estimated intercept: 6.930876 | Estimated slope: 0.048053\n",
      "Iteration: 420000 | Estimated intercept: 6.940676 | Estimated slope: 0.048003\n",
      "Iteration: 430000 | Estimated intercept: 6.949533 | Estimated slope: 0.047958\n",
      "Iteration: 440000 | Estimated intercept: 6.957536 | Estimated slope: 0.047918\n",
      "Iteration: 450000 | Estimated intercept: 6.964767 | Estimated slope: 0.047881\n",
      "Iteration: 460000 | Estimated intercept: 6.971302 | Estimated slope: 0.047848\n",
      "Iteration: 470000 | Estimated intercept: 6.977208 | Estimated slope: 0.047818\n",
      "Iteration: 480000 | Estimated intercept: 6.982544 | Estimated slope: 0.047791\n",
      "Iteration: 490000 | Estimated intercept: 6.987366 | Estimated slope: 0.047766\n",
      "Iteration: 500000 | Estimated intercept: 6.991724 | Estimated slope: 0.047744\n",
      "Iteration: 510000 | Estimated intercept: 6.995662 | Estimated slope: 0.047724\n",
      "Iteration: 520000 | Estimated intercept: 6.99922 | Estimated slope: 0.047706\n",
      "Iteration: 530000 | Estimated intercept: 7.002436 | Estimated slope: 0.04769\n",
      "Iteration: 540000 | Estimated intercept: 7.005341 | Estimated slope: 0.047675\n",
      "Iteration: 550000 | Estimated intercept: 7.007967 | Estimated slope: 0.047662\n",
      "Iteration: 560000 | Estimated intercept: 7.01034 | Estimated slope: 0.04765\n",
      "Iteration: 570000 | Estimated intercept: 7.012484 | Estimated slope: 0.047639\n",
      "Iteration: 580000 | Estimated intercept: 7.014422 | Estimated slope: 0.047629\n",
      "Iteration: 590000 | Estimated intercept: 7.016172 | Estimated slope: 0.04762\n",
      "Iteration: 600000 | Estimated intercept: 7.017755 | Estimated slope: 0.047612\n",
      "Iteration: 610000 | Estimated intercept: 7.019184 | Estimated slope: 0.047605\n",
      "Iteration: 620000 | Estimated intercept: 7.020476 | Estimated slope: 0.047598\n",
      "Iteration: 630000 | Estimated intercept: 7.021644 | Estimated slope: 0.047592\n",
      "Iteration: 640000 | Estimated intercept: 7.022699 | Estimated slope: 0.047587\n",
      "Iteration: 650000 | Estimated intercept: 7.023652 | Estimated slope: 0.047582\n",
      "Iteration: 660000 | Estimated intercept: 7.024514 | Estimated slope: 0.047578\n",
      "Iteration: 670000 | Estimated intercept: 7.025292 | Estimated slope: 0.047574\n",
      "Iteration: 680000 | Estimated intercept: 7.025996 | Estimated slope: 0.04757\n",
      "Iteration: 690000 | Estimated intercept: 7.026631 | Estimated slope: 0.047567\n",
      "Iteration: 700000 | Estimated intercept: 7.027206 | Estimated slope: 0.047564\n",
      "Iteration: 710000 | Estimated intercept: 7.027725 | Estimated slope: 0.047561\n",
      "Iteration: 720000 | Estimated intercept: 7.028194 | Estimated slope: 0.047559\n",
      "Iteration: 730000 | Estimated intercept: 7.028618 | Estimated slope: 0.047557\n",
      "Iteration: 740000 | Estimated intercept: 7.029001 | Estimated slope: 0.047555\n",
      "Iteration: 750000 | Estimated intercept: 7.029347 | Estimated slope: 0.047553\n",
      "Iteration: 760000 | Estimated intercept: 7.02966 | Estimated slope: 0.047552\n",
      "Iteration: 770000 | Estimated intercept: 7.029943 | Estimated slope: 0.04755\n",
      "Iteration: 780000 | Estimated intercept: 7.030198 | Estimated slope: 0.047549\n",
      "Iteration: 790000 | Estimated intercept: 7.030429 | Estimated slope: 0.047548\n",
      "Iteration: 800000 | Estimated intercept: 7.030637 | Estimated slope: 0.047547\n",
      "Iteration: 810000 | Estimated intercept: 7.030826 | Estimated slope: 0.047546\n",
      "Iteration: 820000 | Estimated intercept: 7.030996 | Estimated slope: 0.047545\n",
      "Iteration: 830000 | Estimated intercept: 7.03115 | Estimated slope: 0.047544\n",
      "Iteration: 840000 | Estimated intercept: 7.031289 | Estimated slope: 0.047543\n",
      "Iteration: 850000 | Estimated intercept: 7.031415 | Estimated slope: 0.047543\n",
      "Iteration: 860000 | Estimated intercept: 7.031528 | Estimated slope: 0.047542\n",
      "Iteration: 870000 | Estimated intercept: 7.031631 | Estimated slope: 0.047542\n",
      "Iteration: 880000 | Estimated intercept: 7.031724 | Estimated slope: 0.047541\n",
      "Iteration: 890000 | Estimated intercept: 7.031808 | Estimated slope: 0.047541\n",
      "Iteration: 900000 | Estimated intercept: 7.031883 | Estimated slope: 0.04754\n",
      "Iteration: 910000 | Estimated intercept: 7.031952 | Estimated slope: 0.04754\n",
      "Iteration: 920000 | Estimated intercept: 7.032014 | Estimated slope: 0.04754\n",
      "Iteration: 930000 | Estimated intercept: 7.032069 | Estimated slope: 0.047539\n",
      "Iteration: 940000 | Estimated intercept: 7.03212 | Estimated slope: 0.047539\n",
      "Iteration: 950000 | Estimated intercept: 7.032166 | Estimated slope: 0.047539\n",
      "Iteration: 960000 | Estimated intercept: 7.032207 | Estimated slope: 0.047539\n",
      "Iteration: 970000 | Estimated intercept: 7.032244 | Estimated slope: 0.047538\n",
      "Iteration: 980000 | Estimated intercept: 7.032278 | Estimated slope: 0.047538\n",
      "Iteration: 990000 | Estimated intercept: 7.032308 | Estimated slope: 0.047538\n",
      "Iteration: 1000000 | Estimated intercept: 7.032336 | Estimated slope: 0.047538\n"
     ]
    }
   ],
   "source": [
    "# Perform gradient descent\n",
    "for i in range(1, max_iter+1):\n",
    "\n",
    "    # Calculate partial derivatives of loss function with respect to beta0 and beta1\n",
    "    d_beta0 = np.sum(2 * (beta0 + beta1 * x - y))\n",
    "    d_beta1 = np.sum(2 * x * (beta0 + beta1 * x - y))\n",
    "\n",
    "    # Update values of beta0 and beta1 (i.e., take a step into opposite direction of the gradient)\n",
    "    beta0_new = beta0 - learning_rate * d_beta0\n",
    "    beta1_new = beta1 - learning_rate * d_beta1\n",
    "    beta0 = beta0_new\n",
    "    beta1 = beta1_new\n",
    "\n",
    "    # Print estimates every 10000 steps\n",
    "    if i % 10000 == 0:\n",
    "        print(\"Iteration:\", i, \"|\", \"Estimated intercept:\", round(beta0, 6), \"|\", \"Estimated slope:\", round(beta1, 6))"
   ]
  },
  {
   "cell_type": "code",
   "execution_count": 9,
   "metadata": {},
   "outputs": [
    {
     "name": "stdout",
     "output_type": "stream",
     "text": [
      "Final estimated intercept: 7.032336 | Final estimated slope: 0.047538\n"
     ]
    }
   ],
   "source": [
    "# Print final estimated parameter values\n",
    "print(\"Final estimated intercept:\", round(beta0, 6), \"|\", \"Final estimated slope:\", round(beta1, 6))"
   ]
  },
  {
   "cell_type": "code",
   "execution_count": 10,
   "metadata": {},
   "outputs": [
    {
     "name": "stdout",
     "output_type": "stream",
     "text": [
      "                            OLS Regression Results                            \n",
      "==============================================================================\n",
      "Dep. Variable:                      y   R-squared:                       0.612\n",
      "Model:                            OLS   Adj. R-squared:                  0.610\n",
      "Method:                 Least Squares   F-statistic:                     312.1\n",
      "Date:                Wed, 30 Oct 2024   Prob (F-statistic):           1.47e-42\n",
      "Time:                        16:59:32   Log-Likelihood:                -519.05\n",
      "No. Observations:                 200   AIC:                             1042.\n",
      "Df Residuals:                     198   BIC:                             1049.\n",
      "Df Model:                           1                                         \n",
      "Covariance Type:            nonrobust                                         \n",
      "==============================================================================\n",
      "                 coef    std err          t      P>|t|      [0.025      0.975]\n",
      "------------------------------------------------------------------------------\n",
      "const          7.0326      0.458     15.360      0.000       6.130       7.935\n",
      "x1             0.0475      0.003     17.668      0.000       0.042       0.053\n",
      "==============================================================================\n",
      "Omnibus:                        0.531   Durbin-Watson:                   1.935\n",
      "Prob(Omnibus):                  0.767   Jarque-Bera (JB):                0.669\n",
      "Skew:                          -0.089   Prob(JB):                        0.716\n",
      "Kurtosis:                       2.779   Cond. No.                         338.\n",
      "==============================================================================\n",
      "\n",
      "Notes:\n",
      "[1] Standard Errors assume that the covariance matrix of the errors is correctly specified.\n"
     ]
    }
   ],
   "source": [
    "# For comparison, let's look at the analytical solution\n",
    "x_with_intercept = sm.add_constant(x)\n",
    "ols = sm.OLS(y, x_with_intercept).fit()\n",
    "print(ols.summary())"
   ]
  }
 ],
 "metadata": {
  "kernelspec": {
   "display_name": "prodok",
   "language": "python",
   "name": "python3"
  },
  "language_info": {
   "codemirror_mode": {
    "name": "ipython",
    "version": 3
   },
   "file_extension": ".py",
   "mimetype": "text/x-python",
   "name": "python",
   "nbconvert_exporter": "python",
   "pygments_lexer": "ipython3",
   "version": "3.12.1"
  }
 },
 "nbformat": 4,
 "nbformat_minor": 2
}
