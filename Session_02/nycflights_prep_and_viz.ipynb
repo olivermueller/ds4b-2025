{
 "cells": [
  {
   "cell_type": "markdown",
   "id": "bcde58c7",
   "metadata": {},
   "source": [
    "# Data Science for Business - Exploring Flight Delays in NYC\n"
   ]
  },
  {
   "cell_type": "code",
   "execution_count": 1,
   "id": "21d1c86d",
   "metadata": {},
   "outputs": [],
   "source": [
    "import pandas as pd\n",
    "import numpy as np\n",
    "import seaborn as sns\n",
    "import matplotlib.pyplot as plt\n"
   ]
  },
  {
   "cell_type": "markdown",
   "id": "49538770",
   "metadata": {},
   "source": [
    "## Case Description\n",
    "\n",
    "### Flight Delays\n",
    "\n",
    "Flight delays are a common problem in the airline industry. They can be caused by a variety of factors, such as weather, air traffic control, and mechanical issues. Delays can be frustrating for passengers and costly for airlines. In this case study, we will work with a dataset containing flight delay data for all flights departing NYC in 2013. Besides delays, the dataset also includes useful meta-data on airlines, airports, weather, and planes. [More...](https://cran.r-project.org/web/packages/nycflights13/nycflights13.pdf).\n",
    "\n",
    "The dataset structure is illustrated in the following diagram:\n",
    "\n",
    "![Dataset Structure](nycflights13.png)\n"
   ]
  },
  {
   "cell_type": "markdown",
   "id": "d2479550",
   "metadata": {},
   "source": [
    "## Load Data\n",
    "\n",
    "Let's start by loading the `flights` table, taking a look at the first few rows, and displaying the dimensions of the table."
   ]
  },
  {
   "cell_type": "code",
   "execution_count": 2,
   "id": "6623341c",
   "metadata": {},
   "outputs": [],
   "source": [
    "flights = pd.read_csv('https://raw.githubusercontent.com/olivermueller/ds4b-2024/3014cdf1ad22beee81fe27adb73dcb317c6f296f/Session_02/flights.csv')"
   ]
  },
  {
   "cell_type": "code",
   "execution_count": null,
   "id": "98fd05a5",
   "metadata": {},
   "outputs": [],
   "source": [
    "flights.head(10)"
   ]
  },
  {
   "cell_type": "code",
   "execution_count": null,
   "id": "4272e107",
   "metadata": {},
   "outputs": [],
   "source": [
    "flights.shape"
   ]
  },
  {
   "cell_type": "markdown",
   "id": "ea9d83bf",
   "metadata": {},
   "source": [
    "We continue by loading the remaining tables and taking a look at the first few rows of each table."
   ]
  },
  {
   "cell_type": "code",
   "execution_count": null,
   "id": "5c494f21",
   "metadata": {},
   "outputs": [],
   "source": [
    "airlines = pd.read_csv('https://raw.githubusercontent.com/olivermueller/ds4b-2024/3014cdf1ad22beee81fe27adb73dcb317c6f296f/Session_02/airlines.csv')\n",
    "airlines.head(10)"
   ]
  },
  {
   "cell_type": "code",
   "execution_count": null,
   "id": "87a16771",
   "metadata": {},
   "outputs": [],
   "source": [
    "airports = pd.read_csv('https://raw.githubusercontent.com/olivermueller/ds4b-2024/3014cdf1ad22beee81fe27adb73dcb317c6f296f/Session_02/airports.csv')\n",
    "airports.head(10)"
   ]
  },
  {
   "cell_type": "code",
   "execution_count": 7,
   "id": "c50682b6",
   "metadata": {},
   "outputs": [],
   "source": [
    "# Your task: Load the *planes* and *weather* tables from CSV files, store them a variables called weather and planes and take a look at the first few rows of each table."
   ]
  },
  {
   "cell_type": "markdown",
   "id": "f98ebb87",
   "metadata": {},
   "source": [
    "## Prepare Data\n",
    "\n",
    "Before we start exploring the data, we need to prepare it. This includes cleaning the data (e.g., filtering rows with missing values or outliers), creating new features, and merging tables."
   ]
  },
  {
   "cell_type": "markdown",
   "id": "bdaf0980",
   "metadata": {},
   "source": [
    "### Filter out observations"
   ]
  },
  {
   "cell_type": "markdown",
   "id": "bec963ac",
   "metadata": {},
   "source": [
    "We start by filtering the `flights` table to exclude flights with a `distance` or `air_time` smaller or equal to 0. "
   ]
  },
  {
   "cell_type": "code",
   "execution_count": null,
   "id": "041a1bcb",
   "metadata": {},
   "outputs": [],
   "source": [
    "flights = flights[flights['distance'] > 0]\n",
    "flights.shape"
   ]
  },
  {
   "cell_type": "code",
   "execution_count": 9,
   "id": "b3d61821",
   "metadata": {},
   "outputs": [],
   "source": [
    "# Your task: Filter out all flights with an air time of 0"
   ]
  },
  {
   "cell_type": "markdown",
   "id": "2af16b46",
   "metadata": {},
   "source": [
    "### Construct new variables"
   ]
  },
  {
   "cell_type": "markdown",
   "id": "311350c0",
   "metadata": {},
   "source": [
    "The way how times are represented in this dataset is quite strange (look at the values `dep_time` or `arr_time` and the separate `hour` and `minute` columns). We will use the timestamps in the `time_hour` column to extract new time variables (`month` and `weekday`) and then remove the column."
   ]
  },
  {
   "cell_type": "code",
   "execution_count": 10,
   "id": "1d29442b",
   "metadata": {},
   "outputs": [],
   "source": [
    "flights['time_hour'] = pd.to_datetime(flights['time_hour'], utc=True)\n",
    "flights['month_name'] = flights['time_hour'].dt.month_name()\n",
    "flights['weekday_name'] = flights['time_hour'].dt.day_name()\n",
    "flights = flights.drop(columns=['time_hour'])"
   ]
  },
  {
   "cell_type": "code",
   "execution_count": null,
   "id": "49d0a15d",
   "metadata": {},
   "outputs": [],
   "source": [
    "flights.head()"
   ]
  },
  {
   "cell_type": "markdown",
   "id": "937c51d0",
   "metadata": {},
   "source": [
    "### Join tables"
   ]
  },
  {
   "cell_type": "markdown",
   "id": "51c18ded",
   "metadata": {},
   "source": [
    "Finally, we will merge some of the tables to create a single table that contains all the information we need for our visualizations. For this, we will use different types of SQL-style joins."
   ]
  },
  {
   "cell_type": "markdown",
   "id": "00bd548b",
   "metadata": {},
   "source": [
    "![Types of Joins](join-venn.png)"
   ]
  },
  {
   "cell_type": "markdown",
   "id": "0d5c2882",
   "metadata": {},
   "source": [
    "We primarily use inner joins for matching observations when keys are equal:\n",
    "\n",
    "![Inner Join](join-inner.png)\n"
   ]
  },
  {
   "cell_type": "markdown",
   "id": "2113be36",
   "metadata": {},
   "source": [
    "Let's demonstrate the differences between an **inner join** and a **left join** with some examples."
   ]
  },
  {
   "cell_type": "code",
   "execution_count": null,
   "id": "9202e809",
   "metadata": {},
   "outputs": [],
   "source": [
    "flights_and_airlines = flights.merge(airlines, on='carrier', how='inner')\n",
    "flights_and_airlines.shape"
   ]
  },
  {
   "cell_type": "code",
   "execution_count": null,
   "id": "00b572a3",
   "metadata": {},
   "outputs": [],
   "source": [
    "flights_and_airlines = flights.merge(airlines, on='carrier', how='left')\n",
    "flights_and_airlines.shape"
   ]
  },
  {
   "cell_type": "code",
   "execution_count": 14,
   "id": "f0e72ec9",
   "metadata": {},
   "outputs": [],
   "source": [
    "# Your task: Do the same with flights and planes."
   ]
  },
  {
   "cell_type": "markdown",
   "id": "b594a946",
   "metadata": {},
   "source": [
    "Left join of `flights` and `airports` using `origin` (left table) and `faa` (right table) as keys."
   ]
  },
  {
   "cell_type": "code",
   "execution_count": null,
   "id": "85a25916",
   "metadata": {},
   "outputs": [],
   "source": [
    "flights_and_origin_airports = flights.merge(airports, left_on='origin', right_on='faa', how='left')\n",
    "flights_and_origin_airports.shape"
   ]
  },
  {
   "cell_type": "markdown",
   "id": "4759df3f",
   "metadata": {},
   "source": [
    "Left join of `flights` and `airports` using `dest` (left table) and `faa` (right table) as keys."
   ]
  },
  {
   "cell_type": "code",
   "execution_count": null,
   "id": "d05927c6",
   "metadata": {},
   "outputs": [],
   "source": [
    "flights_and_dest_airports = flights.merge(airports, left_on='dest', right_on='faa', how='left')\n",
    "flights_and_dest_airports.shape"
   ]
  },
  {
   "cell_type": "markdown",
   "id": "c1454e34",
   "metadata": {},
   "source": [
    "Left join of `flights` and `weather` using a composite key consisting of `origin`, `month`, `day`, and `hour`.\n"
   ]
  },
  {
   "cell_type": "code",
   "execution_count": null,
   "id": "ea6c3eee",
   "metadata": {},
   "outputs": [],
   "source": [
    "flights_and_weather = flights.merge(weather, on=['origin', 'month', 'day', 'hour'], how='left')\n",
    "flights_and_weather.shape"
   ]
  },
  {
   "cell_type": "markdown",
   "id": "dab00669",
   "metadata": {},
   "source": [
    "We can now join all the tables (`flights`, `airlines`, `planes`, `airports`, `weather`) into one comprehensive table."
   ]
  },
  {
   "cell_type": "code",
   "execution_count": null,
   "id": "deb784e3",
   "metadata": {},
   "outputs": [],
   "source": [
    "flights_all = (\n",
    "    flights\n",
    "    .merge(airlines, on='carrier', how='left')\n",
    "    .merge(planes, on='tailnum', how='left')\n",
    "    .merge(airports, left_on='origin', right_on='faa', how='left', suffixes=('_origin', '_dest'))\n",
    "    .merge(airports, left_on='dest', right_on='faa', how='left', suffixes=('', '_dest'))\n",
    "    .merge(weather, on=['origin', 'month', 'day', 'hour'], how='left')\n",
    ")\n",
    "\n",
    "flights_all.head()\n"
   ]
  },
  {
   "cell_type": "code",
   "execution_count": null,
   "id": "8552728b",
   "metadata": {},
   "outputs": [],
   "source": [
    "flights_all.shape"
   ]
  },
  {
   "cell_type": "code",
   "execution_count": null,
   "id": "ffee78bc",
   "metadata": {},
   "outputs": [],
   "source": [
    "flights_all.columns"
   ]
  },
  {
   "cell_type": "markdown",
   "id": "a250f2f7",
   "metadata": {},
   "source": [
    "The joins created some duplicate columns. Let's remove them and renaming columns for clarity."
   ]
  },
  {
   "cell_type": "code",
   "execution_count": 21,
   "id": "d6397bf0",
   "metadata": {},
   "outputs": [],
   "source": [
    "flights_all = flights_all.drop(columns=['year_y', 'time_hour'])\n",
    "\n",
    "flights_all = flights_all.rename(columns={\n",
    "    'year_x': 'year',\n",
    "})"
   ]
  },
  {
   "cell_type": "code",
   "execution_count": null,
   "id": "2b85c23a",
   "metadata": {},
   "outputs": [],
   "source": [
    "flights_all.head()"
   ]
  },
  {
   "cell_type": "code",
   "execution_count": null,
   "id": "1955244c",
   "metadata": {},
   "outputs": [],
   "source": [
    "flights_all.columns"
   ]
  },
  {
   "cell_type": "markdown",
   "id": "dd8b7118",
   "metadata": {},
   "source": [
    "## Explore Data through Visualizations\n",
    "\n",
    "We will now visualize categorical and numerical variables to gain insights into the data. We will use the Seaborn library for this purpose. Seaborn is a data visualization library based on Matplotlib. It provides a high-level interface for drawing attractive and informative statistical graphics. But it also offers a low-level interface for detailed customization of plots.\n"
   ]
  },
  {
   "cell_type": "markdown",
   "id": "afaff543",
   "metadata": {},
   "source": [
    "### Plots for Categorical Variables"
   ]
  },
  {
   "cell_type": "markdown",
   "id": "ebb2956c",
   "metadata": {},
   "source": [
    "We begin by plotting a bar chart of the number of flights by `origin` airport. The function `countplot` is used to show the counts of observations in each categorical bin using bars. Then we use the functions `title`, `xlabel`, and `ylabel` to set a title and labels of the x and y axes, respectively.\n"
   ]
  },
  {
   "cell_type": "code",
   "execution_count": null,
   "id": "d5910cee",
   "metadata": {},
   "outputs": [],
   "source": [
    "sns.countplot(data=flights_all, x='origin')\n",
    "plt.title('Number of Flights by Origin Airport')\n",
    "plt.xlabel('Origin Airport')\n",
    "plt.ylabel('Number of Flights')\n",
    "plt.show()\n"
   ]
  },
  {
   "cell_type": "code",
   "execution_count": 25,
   "id": "0d95dce8",
   "metadata": {},
   "outputs": [],
   "source": [
    "# Your task: Do the same for the number of flights by airline."
   ]
  },
  {
   "cell_type": "markdown",
   "id": "dc3c5d98",
   "metadata": {},
   "source": [
    "To order the bars by frequency, we can use the `order` parameter of the `countplot` function.\n"
   ]
  },
  {
   "cell_type": "code",
   "execution_count": null,
   "id": "aab5cfed",
   "metadata": {},
   "outputs": [],
   "source": [
    "sns.countplot(data=flights_all, x='carrier', order=flights_all['carrier'].value_counts().index)\n",
    "plt.title('Who are the biggest airlines in NYC?')\n",
    "plt.xlabel('Airline Code')\n",
    "plt.ylabel('Number of Flights Leaving NYC')\n",
    "plt.xticks(rotation=90)\n",
    "plt.show()\n"
   ]
  },
  {
   "cell_type": "markdown",
   "id": "b2b4d643",
   "metadata": {},
   "source": [
    "### Plots for Numerical Variables\n",
    "\n",
    "Next, we explore the distribution of the `distance` of all flights using the `displot` function. Using the value *hist* for the `kind` parameter, we can plot a histogram. The *bins* parameter specifies the number of bins to use for the histogram.\n"
   ]
  },
  {
   "cell_type": "code",
   "execution_count": null,
   "id": "4b503d6c",
   "metadata": {},
   "outputs": [],
   "source": [
    "sns.displot(data=flights_all, kind='hist', x='distance', bins=30)\n",
    "plt.title('Distribution of Flight Distances')\n",
    "plt.xlabel('Distance (miles)')\n",
    "plt.ylabel('Number of Flights')\n",
    "plt.show()\n"
   ]
  },
  {
   "cell_type": "code",
   "execution_count": 28,
   "id": "059aa30f",
   "metadata": {},
   "outputs": [],
   "source": [
    "# Your turn: Do the same for airtime. "
   ]
  },
  {
   "cell_type": "markdown",
   "id": "fe007e3d",
   "metadata": {},
   "source": [
    "Using the value *kde* for the `kind` parameter, we can plot a kernel density estimate. The *fill* parameter specifies whether to fill the area under the KDE curve."
   ]
  },
  {
   "cell_type": "code",
   "execution_count": null,
   "id": "9adee307",
   "metadata": {},
   "outputs": [],
   "source": [
    "sns.displot(data=flights_all, kind='kde', x='distance', fill=True)\n",
    "plt.title('Distribution of Flight Distances')\n",
    "plt.xlabel('Distance (miles)')\n",
    "plt.ylabel('Number of Flights')\n",
    "plt.show()\n"
   ]
  },
  {
   "cell_type": "markdown",
   "id": "23824b05",
   "metadata": {},
   "source": [
    "If you want to create the same plot for different subsets of the data, you can use the `FacetGrid` function. It maps a low-level function to create a plot (here: `histplot`) to each subset of the data defined by the level of a categorical variable. "
   ]
  },
  {
   "cell_type": "code",
   "execution_count": null,
   "id": "b33e5a2c",
   "metadata": {},
   "outputs": [],
   "source": [
    "g = sns.FacetGrid(flights_all, col=\"origin\")\n",
    "g.map(sns.histplot, \"distance\")\n",
    "g.set_axis_labels(\"Distance (miles)\", \"Number of Flights\")\n",
    "plt.show()\n"
   ]
  },
  {
   "cell_type": "markdown",
   "id": "5e850944",
   "metadata": {},
   "source": [
    "Box plots provide another alternative for visualizing the distribution of numerical variables. The low-level function `boxplot` can be used to create a box plot for a numerical variable (here: `arr_delay`), optinally grouped by a categorical variable (here: `origin`)."
   ]
  },
  {
   "cell_type": "code",
   "execution_count": null,
   "id": "2f6fb2c6",
   "metadata": {},
   "outputs": [],
   "source": [
    "sns.boxplot(data=flights_all, y='distance', x='origin')\n",
    "plt.title('Box Plot of Flight Distances by Origin')\n",
    "plt.xlabel('Origin Airport')\n",
    "plt.ylabel('Distance (miles)')\n",
    "plt.show()\n"
   ]
  },
  {
   "cell_type": "code",
   "execution_count": 50,
   "id": "2f358c42",
   "metadata": {},
   "outputs": [],
   "source": [
    "# Your turn: Do the same for airlines instead of origin airports."
   ]
  },
  {
   "cell_type": "markdown",
   "id": "2bcdeab1",
   "metadata": {},
   "source": [
    "The above plots show the relationship between a categorical and a numerical variable. We can also visualize the relationship between two numerical variables. The `relplot` function offers various options for this purpose. Here, we use the `scatterplot` kind to create a scatter plot of `distance` and `air_time`."
   ]
  },
  {
   "cell_type": "code",
   "execution_count": null,
   "id": "18736621",
   "metadata": {},
   "outputs": [],
   "source": [
    "sns.relplot(data=flights_all, kind='scatter', x='distance', y='air_time', alpha=0.5)\n",
    "plt.title('Scatter Plot: Distance vs Air Time')\n",
    "plt.xlabel('Distance (miles)')\n",
    "plt.ylabel('Air Time (minutes)')\n",
    "plt.show()\n"
   ]
  },
  {
   "cell_type": "code",
   "execution_count": 55,
   "id": "16d5fdd5",
   "metadata": {},
   "outputs": [],
   "source": [
    "#Your task: Do the same for delay and a numerical weather variable of your choice."
   ]
  }
 ],
 "metadata": {
  "kernelspec": {
   "display_name": "prodok",
   "language": "python",
   "name": "python3"
  },
  "language_info": {
   "codemirror_mode": {
    "name": "ipython",
    "version": 3
   },
   "file_extension": ".py",
   "mimetype": "text/x-python",
   "name": "python",
   "nbconvert_exporter": "python",
   "pygments_lexer": "ipython3",
   "version": "3.12.1"
  }
 },
 "nbformat": 4,
 "nbformat_minor": 5
}
